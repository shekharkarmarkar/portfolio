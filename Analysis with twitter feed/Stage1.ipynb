{
 "cells": [
  {
   "cell_type": "markdown",
   "metadata": {},
   "source": [
    "<img src=\"https://datasciencedegree.wisconsin.edu/wp-content/themes/data-gulp/images/logo.svg\" width=\"300\">\n"
   ]
  },
  {
   "cell_type": "markdown",
   "metadata": {},
   "source": [
    "This file is Stage - 1 of project which involves \n",
    "- use tweepy API\n",
    "- collect 5000 tweets\n",
    "- extract text from tweets\n",
    "- create dataframe from tweet text\n",
    "- create two sorted and unique lists as pre_obesity and post_obesity\n",
    "- Remove duplicate tweets from dataframe\n",
    "- Store dataframe as csv file\n",
    "\n",
    "Study is done to test that number of words related to preventive aspect of obesity will be same as that of disease aspect of obesity.\n"
   ]
  },
  {
   "cell_type": "code",
   "execution_count": 1,
   "metadata": {},
   "outputs": [],
   "source": [
    "# function used to find number of substring from list in string\n",
    "def counter(s, lst):\n",
    "    s = s.lower()\n",
    "    return sum(s.count(sub) for sub in lst)\n",
    "\n",
    "# create two lists for obesity\n",
    "pre_obesity = ['food',\n",
    "              'breakfast',\n",
    "               'lunch',\n",
    "               'dinner',\n",
    "               'protein',\n",
    "               'apetite',\n",
    "               'potassium',\n",
    "               'vitamin',\n",
    "               'energy',\n",
    "               'starving',\n",
    "               'berry',\n",
    "               'coffee',\n",
    "               'alcohol',\n",
    "               'caffeine',\n",
    "               'sugar',\n",
    "               'milk',\n",
    "               'cigarette',\n",
    "               'diet',\n",
    "               'sleep',\n",
    "               'calorie',\n",
    "               'run',\n",
    "               'walk',\n",
    "               'nutrition',\n",
    "               'tea',\n",
    "               'snack',\n",
    "               'meal',\n",
    "               'fitness',\n",
    "               'keto'\n",
    "               \n",
    "              ]\n",
    "\n",
    "# removing any duplicates if present\n",
    "pre_obesity = list(set(pre_obesity))\n",
    "pre_obesity = sorted(pre_obesity)\n",
    "\n",
    "# This is second list to compare\n",
    "post_obesity = ['diabetes',\n",
    "                'heart',\n",
    "                'brain',\n",
    "               'kidney',\n",
    "                'surgery',\n",
    "                'arthritis',\n",
    "                'cancer',\n",
    "                'disease',\n",
    "                'inflammation',\n",
    "                'endocrine',\n",
    "                'gastric',\n",
    "                'liver',\n",
    "                'pregnancy',\n",
    "                'metabolic',\n",
    "                'syndrome',\n",
    "                'fertility',\n",
    "                'pancreas',\n",
    "                'pain',\n",
    "                'ache',\n",
    "                'oral'\n",
    "               ]\n",
    "\n",
    "post_obesity = list(set(post_obesity))\n",
    "post_obesity = sorted(post_obesity)"
   ]
  },
  {
   "cell_type": "code",
   "execution_count": 2,
   "metadata": {},
   "outputs": [],
   "source": [
    "# import the packages\n",
    "import tweepy\n",
    "import pandas as pd"
   ]
  },
  {
   "cell_type": "code",
   "execution_count": 3,
   "metadata": {},
   "outputs": [],
   "source": [
    "# run the text file with credentials\n",
    "%run ~/Desktop/twitter_credentials.py"
   ]
  },
  {
   "cell_type": "code",
   "execution_count": 4,
   "metadata": {},
   "outputs": [],
   "source": [
    "#Use tweepy.OAuthHandler to create an authentication using the given key and secret\n",
    "auth = tweepy.OAuthHandler(consumer_key=con_key, consumer_secret=con_secret)\n",
    "auth.set_access_token(acc_token, acc_secret)\n",
    "\n",
    "#Connect to the Twitter API using the authentication\n",
    "api = tweepy.API(auth)"
   ]
  },
  {
   "cell_type": "code",
   "execution_count": 5,
   "metadata": {},
   "outputs": [
    {
     "name": "stdout",
     "output_type": "stream",
     "text": [
      "Could not find any more tweets!\n"
     ]
    },
    {
     "data": {
      "text/plain": [
       "4044"
      ]
     },
     "execution_count": 5,
     "metadata": {},
     "output_type": "execute_result"
    }
   ],
   "source": [
    "# collecting more tweets\n",
    "num_needed = 5000\n",
    "tweet_list = []\n",
    "last_id = -1 # id of last tweet seen\n",
    "while len(tweet_list) < num_needed:\n",
    "    try:\n",
    "        new_tweets = api.search(q = '#%23obesity', tweet_mode='extended',\n",
    "                                count = 100, max_id = str(last_id - 1))\n",
    "    except tweepy.TweepError as e:\n",
    "        print(\"Error\", e)\n",
    "        break\n",
    "    else:\n",
    "        if not new_tweets:\n",
    "            print(\"Could not find any more tweets!\")\n",
    "            break\n",
    "        tweet_list.extend(new_tweets)\n",
    "        last_id = new_tweets[-1].id\n",
    "        \n",
    "tweet_text_list = [tweet.full_text for tweet in tweet_list]\n",
    "len(tweet_list)"
   ]
  },
  {
   "cell_type": "code",
   "execution_count": 6,
   "metadata": {},
   "outputs": [
    {
     "data": {
      "text/html": [
       "<div>\n",
       "<style scoped>\n",
       "    .dataframe tbody tr th:only-of-type {\n",
       "        vertical-align: middle;\n",
       "    }\n",
       "\n",
       "    .dataframe tbody tr th {\n",
       "        vertical-align: top;\n",
       "    }\n",
       "\n",
       "    .dataframe thead th {\n",
       "        text-align: right;\n",
       "    }\n",
       "</style>\n",
       "<table border=\"1\" class=\"dataframe\">\n",
       "  <thead>\n",
       "    <tr style=\"text-align: right;\">\n",
       "      <th></th>\n",
       "      <th>Tweet_text</th>\n",
       "    </tr>\n",
       "  </thead>\n",
       "  <tbody>\n",
       "    <tr>\n",
       "      <th>0</th>\n",
       "      <td>Another publication from the @abetterstartnz i...</td>\n",
       "    </tr>\n",
       "    <tr>\n",
       "      <th>1</th>\n",
       "      <td>RT @yourcroydon: Great cross borough turnout a...</td>\n",
       "    </tr>\n",
       "    <tr>\n",
       "      <th>2</th>\n",
       "      <td>What's leading to shorter lifespans in America...</td>\n",
       "    </tr>\n",
       "    <tr>\n",
       "      <th>3</th>\n",
       "      <td>VIDEO: Clinical studies of obesity in oncogene...</td>\n",
       "    </tr>\n",
       "    <tr>\n",
       "      <th>4</th>\n",
       "      <td>RT @OrganicLiveFood: Various studies have show...</td>\n",
       "    </tr>\n",
       "  </tbody>\n",
       "</table>\n",
       "</div>"
      ],
      "text/plain": [
       "                                          Tweet_text\n",
       "0  Another publication from the @abetterstartnz i...\n",
       "1  RT @yourcroydon: Great cross borough turnout a...\n",
       "2  What's leading to shorter lifespans in America...\n",
       "3  VIDEO: Clinical studies of obesity in oncogene...\n",
       "4  RT @OrganicLiveFood: Various studies have show..."
      ]
     },
     "execution_count": 6,
     "metadata": {},
     "output_type": "execute_result"
    }
   ],
   "source": [
    "# create dataframe from tweet text\n",
    "df_current = pd.DataFrame(tweet_text_list, columns= ['Tweet_text'])\n",
    "df_current.count()\n",
    "df_current.head()"
   ]
  },
  {
   "cell_type": "code",
   "execution_count": 7,
   "metadata": {},
   "outputs": [],
   "source": [
    "#execute it only once per session\n",
    "df = pd.DataFrame(columns= ['Tweet_text'])"
   ]
  },
  {
   "cell_type": "code",
   "execution_count": 8,
   "metadata": {},
   "outputs": [
    {
     "data": {
      "text/plain": [
       "Tweet_text    4044\n",
       "dtype: int64"
      ]
     },
     "execution_count": 8,
     "metadata": {},
     "output_type": "execute_result"
    }
   ],
   "source": [
    "# creating DataFrame to hold the results\n",
    "\n",
    "df = pd.concat([df_current, df])\n",
    "df.count()"
   ]
  },
  {
   "cell_type": "code",
   "execution_count": 9,
   "metadata": {},
   "outputs": [
    {
     "data": {
      "text/plain": [
       "Tweet_text    2447\n",
       "dtype: int64"
      ]
     },
     "execution_count": 9,
     "metadata": {},
     "output_type": "execute_result"
    }
   ],
   "source": [
    "# remove duplicate values of tweet text\n",
    "df = df.drop_duplicates()\n",
    "df.count()"
   ]
  },
  {
   "cell_type": "code",
   "execution_count": 15,
   "metadata": {},
   "outputs": [
    {
     "data": {
      "text/html": [
       "<div>\n",
       "<style scoped>\n",
       "    .dataframe tbody tr th:only-of-type {\n",
       "        vertical-align: middle;\n",
       "    }\n",
       "\n",
       "    .dataframe tbody tr th {\n",
       "        vertical-align: top;\n",
       "    }\n",
       "\n",
       "    .dataframe thead th {\n",
       "        text-align: right;\n",
       "    }\n",
       "</style>\n",
       "<table border=\"1\" class=\"dataframe\">\n",
       "  <thead>\n",
       "    <tr style=\"text-align: right;\">\n",
       "      <th></th>\n",
       "      <th>Tweet_text</th>\n",
       "      <th>obesity_present</th>\n",
       "    </tr>\n",
       "  </thead>\n",
       "  <tbody>\n",
       "    <tr>\n",
       "      <th>0</th>\n",
       "      <td>Another publication from the @abetterstartnz i...</td>\n",
       "      <td>True</td>\n",
       "    </tr>\n",
       "    <tr>\n",
       "      <th>1</th>\n",
       "      <td>RT @yourcroydon: Great cross borough turnout a...</td>\n",
       "      <td>False</td>\n",
       "    </tr>\n",
       "    <tr>\n",
       "      <th>2</th>\n",
       "      <td>What's leading to shorter lifespans in America...</td>\n",
       "      <td>True</td>\n",
       "    </tr>\n",
       "    <tr>\n",
       "      <th>3</th>\n",
       "      <td>VIDEO: Clinical studies of obesity in oncogene...</td>\n",
       "      <td>True</td>\n",
       "    </tr>\n",
       "    <tr>\n",
       "      <th>4</th>\n",
       "      <td>RT @OrganicLiveFood: Various studies have show...</td>\n",
       "      <td>False</td>\n",
       "    </tr>\n",
       "  </tbody>\n",
       "</table>\n",
       "</div>"
      ],
      "text/plain": [
       "                                          Tweet_text  obesity_present\n",
       "0  Another publication from the @abetterstartnz i...             True\n",
       "1  RT @yourcroydon: Great cross borough turnout a...            False\n",
       "2  What's leading to shorter lifespans in America...             True\n",
       "3  VIDEO: Clinical studies of obesity in oncogene...             True\n",
       "4  RT @OrganicLiveFood: Various studies have show...            False"
      ]
     },
     "execution_count": 15,
     "metadata": {},
     "output_type": "execute_result"
    }
   ],
   "source": [
    "# create column of true / false depending on text contains #obesity\n",
    "\n",
    "df['obesity_present'] = df.Tweet_text.apply(lambda row: 'obesity' in row.lower() ) \n",
    "df.head(5)"
   ]
  },
  {
   "cell_type": "code",
   "execution_count": 16,
   "metadata": {},
   "outputs": [
    {
     "data": {
      "text/plain": [
       "Tweet_text         2163\n",
       "obesity_present    2163\n",
       "dtype: int64"
      ]
     },
     "execution_count": 16,
     "metadata": {},
     "output_type": "execute_result"
    }
   ],
   "source": [
    "# filter dataframe where obesity_present is true\n",
    "df = df[df['obesity_present'] == True]\n",
    "df.count()"
   ]
  },
  {
   "cell_type": "code",
   "execution_count": 17,
   "metadata": {},
   "outputs": [
    {
     "name": "stderr",
     "output_type": "stream",
     "text": [
      "C:\\Users\\aniruddha\\Anaconda3\\lib\\site-packages\\ipykernel_launcher.py:2: SettingWithCopyWarning: \n",
      "A value is trying to be set on a copy of a slice from a DataFrame.\n",
      "Try using .loc[row_indexer,col_indexer] = value instead\n",
      "\n",
      "See the caveats in the documentation: http://pandas.pydata.org/pandas-docs/stable/indexing.html#indexing-view-versus-copy\n",
      "  \n"
     ]
    },
    {
     "data": {
      "text/html": [
       "<div>\n",
       "<style scoped>\n",
       "    .dataframe tbody tr th:only-of-type {\n",
       "        vertical-align: middle;\n",
       "    }\n",
       "\n",
       "    .dataframe tbody tr th {\n",
       "        vertical-align: top;\n",
       "    }\n",
       "\n",
       "    .dataframe thead th {\n",
       "        text-align: right;\n",
       "    }\n",
       "</style>\n",
       "<table border=\"1\" class=\"dataframe\">\n",
       "  <thead>\n",
       "    <tr style=\"text-align: right;\">\n",
       "      <th></th>\n",
       "      <th>Tweet_text</th>\n",
       "      <th>obesity_present</th>\n",
       "      <th>pre_count</th>\n",
       "    </tr>\n",
       "  </thead>\n",
       "  <tbody>\n",
       "    <tr>\n",
       "      <th>0</th>\n",
       "      <td>Another publication from the @abetterstartnz i...</td>\n",
       "      <td>True</td>\n",
       "      <td>0</td>\n",
       "    </tr>\n",
       "    <tr>\n",
       "      <th>2</th>\n",
       "      <td>What's leading to shorter lifespans in America...</td>\n",
       "      <td>True</td>\n",
       "      <td>0</td>\n",
       "    </tr>\n",
       "    <tr>\n",
       "      <th>3</th>\n",
       "      <td>VIDEO: Clinical studies of obesity in oncogene...</td>\n",
       "      <td>True</td>\n",
       "      <td>0</td>\n",
       "    </tr>\n",
       "    <tr>\n",
       "      <th>5</th>\n",
       "      <td>RT @SlimmingWorld: Ahead of #GE2019, we're cal...</td>\n",
       "      <td>True</td>\n",
       "      <td>0</td>\n",
       "    </tr>\n",
       "    <tr>\n",
       "      <th>6</th>\n",
       "      <td>RT @rcpsychEDFac: There needs to be better dia...</td>\n",
       "      <td>True</td>\n",
       "      <td>0</td>\n",
       "    </tr>\n",
       "  </tbody>\n",
       "</table>\n",
       "</div>"
      ],
      "text/plain": [
       "                                          Tweet_text  obesity_present  \\\n",
       "0  Another publication from the @abetterstartnz i...             True   \n",
       "2  What's leading to shorter lifespans in America...             True   \n",
       "3  VIDEO: Clinical studies of obesity in oncogene...             True   \n",
       "5  RT @SlimmingWorld: Ahead of #GE2019, we're cal...             True   \n",
       "6  RT @rcpsychEDFac: There needs to be better dia...             True   \n",
       "\n",
       "   pre_count  \n",
       "0          0  \n",
       "2          0  \n",
       "3          0  \n",
       "5          0  \n",
       "6          0  "
      ]
     },
     "execution_count": 17,
     "metadata": {},
     "output_type": "execute_result"
    }
   ],
   "source": [
    "# create column of count of pre-obesity\n",
    "df['pre_count'] = df['Tweet_text'].apply( lambda row : counter(row, pre_obesity) )\n",
    "df.head()"
   ]
  },
  {
   "cell_type": "code",
   "execution_count": 18,
   "metadata": {},
   "outputs": [
    {
     "name": "stderr",
     "output_type": "stream",
     "text": [
      "C:\\Users\\aniruddha\\Anaconda3\\lib\\site-packages\\ipykernel_launcher.py:2: SettingWithCopyWarning: \n",
      "A value is trying to be set on a copy of a slice from a DataFrame.\n",
      "Try using .loc[row_indexer,col_indexer] = value instead\n",
      "\n",
      "See the caveats in the documentation: http://pandas.pydata.org/pandas-docs/stable/indexing.html#indexing-view-versus-copy\n",
      "  \n"
     ]
    },
    {
     "data": {
      "text/html": [
       "<div>\n",
       "<style scoped>\n",
       "    .dataframe tbody tr th:only-of-type {\n",
       "        vertical-align: middle;\n",
       "    }\n",
       "\n",
       "    .dataframe tbody tr th {\n",
       "        vertical-align: top;\n",
       "    }\n",
       "\n",
       "    .dataframe thead th {\n",
       "        text-align: right;\n",
       "    }\n",
       "</style>\n",
       "<table border=\"1\" class=\"dataframe\">\n",
       "  <thead>\n",
       "    <tr style=\"text-align: right;\">\n",
       "      <th></th>\n",
       "      <th>Tweet_text</th>\n",
       "      <th>obesity_present</th>\n",
       "      <th>pre_count</th>\n",
       "      <th>post_count</th>\n",
       "    </tr>\n",
       "  </thead>\n",
       "  <tbody>\n",
       "    <tr>\n",
       "      <th>0</th>\n",
       "      <td>Another publication from the @abetterstartnz i...</td>\n",
       "      <td>True</td>\n",
       "      <td>0</td>\n",
       "      <td>0</td>\n",
       "    </tr>\n",
       "    <tr>\n",
       "      <th>2</th>\n",
       "      <td>What's leading to shorter lifespans in America...</td>\n",
       "      <td>True</td>\n",
       "      <td>0</td>\n",
       "      <td>1</td>\n",
       "    </tr>\n",
       "    <tr>\n",
       "      <th>3</th>\n",
       "      <td>VIDEO: Clinical studies of obesity in oncogene...</td>\n",
       "      <td>True</td>\n",
       "      <td>0</td>\n",
       "      <td>1</td>\n",
       "    </tr>\n",
       "    <tr>\n",
       "      <th>5</th>\n",
       "      <td>RT @SlimmingWorld: Ahead of #GE2019, we're cal...</td>\n",
       "      <td>True</td>\n",
       "      <td>0</td>\n",
       "      <td>0</td>\n",
       "    </tr>\n",
       "    <tr>\n",
       "      <th>6</th>\n",
       "      <td>RT @rcpsychEDFac: There needs to be better dia...</td>\n",
       "      <td>True</td>\n",
       "      <td>0</td>\n",
       "      <td>0</td>\n",
       "    </tr>\n",
       "  </tbody>\n",
       "</table>\n",
       "</div>"
      ],
      "text/plain": [
       "                                          Tweet_text  obesity_present  \\\n",
       "0  Another publication from the @abetterstartnz i...             True   \n",
       "2  What's leading to shorter lifespans in America...             True   \n",
       "3  VIDEO: Clinical studies of obesity in oncogene...             True   \n",
       "5  RT @SlimmingWorld: Ahead of #GE2019, we're cal...             True   \n",
       "6  RT @rcpsychEDFac: There needs to be better dia...             True   \n",
       "\n",
       "   pre_count  post_count  \n",
       "0          0           0  \n",
       "2          0           1  \n",
       "3          0           1  \n",
       "5          0           0  \n",
       "6          0           0  "
      ]
     },
     "execution_count": 18,
     "metadata": {},
     "output_type": "execute_result"
    }
   ],
   "source": [
    "# create column of count of post-obesity\n",
    "df['post_count'] = df['Tweet_text'].apply( lambda row : counter(row, post_obesity) )\n",
    "df.head()"
   ]
  },
  {
   "cell_type": "code",
   "execution_count": 19,
   "metadata": {},
   "outputs": [
    {
     "data": {
      "text/plain": [
       "1473"
      ]
     },
     "execution_count": 19,
     "metadata": {},
     "output_type": "execute_result"
    }
   ],
   "source": [
    "sum(df['pre_count'])"
   ]
  },
  {
   "cell_type": "code",
   "execution_count": 20,
   "metadata": {},
   "outputs": [
    {
     "data": {
      "text/plain": [
       "1526"
      ]
     },
     "execution_count": 20,
     "metadata": {},
     "output_type": "execute_result"
    }
   ],
   "source": [
    "sum(df['post_count'])"
   ]
  },
  {
   "cell_type": "code",
   "execution_count": 21,
   "metadata": {},
   "outputs": [],
   "source": [
    "df.to_csv(r'obesity.csv')"
   ]
  }
 ],
 "metadata": {
  "kernelspec": {
   "display_name": "Python 3",
   "language": "python",
   "name": "python3"
  },
  "language_info": {
   "codemirror_mode": {
    "name": "ipython",
    "version": 3
   },
   "file_extension": ".py",
   "mimetype": "text/x-python",
   "name": "python",
   "nbconvert_exporter": "python",
   "pygments_lexer": "ipython3",
   "version": "3.7.3"
  }
 },
 "nbformat": 4,
 "nbformat_minor": 1
}
